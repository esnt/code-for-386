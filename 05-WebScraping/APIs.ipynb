{
 "cells": [
  {
   "cell_type": "code",
   "execution_count": null,
   "id": "17e88eb0",
   "metadata": {},
   "outputs": [],
   "source": [
    "import pandas as pd\n",
    "import numpy as np\n",
    "import requests\n",
    "import re\n",
    "import urllib.parse\n",
    "import matplotlib.pyplot as plt\n",
    "import seaborn as sns\n",
    "import plotly.express as px\n",
    "from pathlib import Path"
   ]
  },
  {
   "cell_type": "code",
   "execution_count": null,
   "id": "44371517",
   "metadata": {},
   "outputs": [],
   "source": [
    "pd.set_option('display.max_columns', None)\n",
    "pd.set_option('display.max_rows', None)"
   ]
  },
  {
   "cell_type": "markdown",
   "id": "a7324b56",
   "metadata": {},
   "source": [
    "---"
   ]
  },
  {
   "cell_type": "markdown",
   "id": "ebaaa79b",
   "metadata": {},
   "source": [
    "## Official Joke API\n",
    "\n",
    "Generates random jokes (from jokes submitted to API)\n",
    "\n",
    "[Documentation](https://github.com/15Dkatz/official_joke_api)\n"
   ]
  },
  {
   "cell_type": "code",
   "execution_count": null,
   "id": "7927e849",
   "metadata": {},
   "outputs": [],
   "source": [
    "##baseurl\n",
    "base_url = \"https://official-joke-api.appspot.com/\"\n"
   ]
  },
  {
   "cell_type": "markdown",
   "id": "df1e36b5",
   "metadata": {},
   "source": [
    "#### 10 random jokes"
   ]
  },
  {
   "cell_type": "code",
   "execution_count": null,
   "id": "c9a4657b",
   "metadata": {},
   "outputs": [],
   "source": [
    "\n",
    "# endpoint for 10 random jokes\n",
    "endpoint = 'random_ten'\n",
    "url = base_url + endpoint"
   ]
  },
  {
   "cell_type": "code",
   "execution_count": null,
   "id": "82888aa4",
   "metadata": {},
   "outputs": [],
   "source": [
    "## What does it look like if you visit this url?\n",
    "url"
   ]
  },
  {
   "cell_type": "code",
   "execution_count": null,
   "id": "391bc6b9",
   "metadata": {},
   "outputs": [],
   "source": [
    "r = requests.get(url)"
   ]
  },
  {
   "cell_type": "code",
   "execution_count": null,
   "id": "b3dc3128",
   "metadata": {},
   "outputs": [],
   "source": [
    "r.status_code"
   ]
  },
  {
   "cell_type": "code",
   "execution_count": null,
   "id": "8de1192f",
   "metadata": {},
   "outputs": [],
   "source": [
    "r.json()"
   ]
  },
  {
   "cell_type": "code",
   "execution_count": null,
   "id": "871c14d7",
   "metadata": {},
   "outputs": [],
   "source": [
    "pd.json_normalize(r.json())"
   ]
  },
  {
   "cell_type": "markdown",
   "id": "c32e6f6d",
   "metadata": {},
   "source": [
    "#### Joke by id"
   ]
  },
  {
   "cell_type": "code",
   "execution_count": null,
   "id": "1e28a5a8",
   "metadata": {},
   "outputs": [],
   "source": [
    "## endpoint for joke by id\n",
    "\n",
    "endpoint = 'jokes/1'\n",
    "r = requests.get(base_url+endpoint)\n",
    "r.ok"
   ]
  },
  {
   "cell_type": "code",
   "execution_count": null,
   "id": "3a1fa2d8",
   "metadata": {},
   "outputs": [],
   "source": [
    "r.status_code"
   ]
  },
  {
   "cell_type": "code",
   "execution_count": null,
   "id": "7c262b6c",
   "metadata": {},
   "outputs": [],
   "source": [
    "r.json()"
   ]
  },
  {
   "cell_type": "code",
   "execution_count": null,
   "id": "ca09c3b0",
   "metadata": {},
   "outputs": [],
   "source": []
  },
  {
   "cell_type": "markdown",
   "id": "c45b75e9",
   "metadata": {},
   "source": [
    "---"
   ]
  },
  {
   "cell_type": "markdown",
   "id": "438e47c0",
   "metadata": {},
   "source": [
    "## Zippopotam API\n",
    "\n",
    "Postal code lookup.\n",
    "\n",
    "Endpoints:\n",
    "* Places by postal code `/{country}/{postalcode}`\n",
    "* Postal codes by place `/{country}/{state}/{place}`\n",
    "* Places near postal code `/nearby/{country}/{postalcode}`\n",
    "\n",
    "[Documentation](https://docs.zippopotam.us/docs/getting-started/) and also [this page](https://www.zippopotam.us/)"
   ]
  },
  {
   "cell_type": "code",
   "execution_count": null,
   "id": "56947cd9",
   "metadata": {},
   "outputs": [],
   "source": [
    "base_url = 'https://api.zippopotam.us'"
   ]
  },
  {
   "cell_type": "markdown",
   "id": "5dbb650b",
   "metadata": {},
   "source": [
    "#### places by postal code"
   ]
  },
  {
   "cell_type": "code",
   "execution_count": null,
   "id": "4c36e8cc",
   "metadata": {},
   "outputs": [],
   "source": [
    "# places by postal code\n",
    "options = [\"us\", \"43420\"] # [\"county\", \"postalcode\"]\n",
    "url = f\"{base_url}/{'/'.join(options)}\"\n",
    "url\n"
   ]
  },
  {
   "cell_type": "code",
   "execution_count": null,
   "id": "7c7e9ceb",
   "metadata": {},
   "outputs": [],
   "source": [
    "newurl = base_url + \"/us/84602\"\n",
    "newurl"
   ]
  },
  {
   "cell_type": "code",
   "execution_count": null,
   "id": "9410a45b",
   "metadata": {},
   "outputs": [],
   "source": [
    "r = requests.get(url)\n",
    "r.ok"
   ]
  },
  {
   "cell_type": "code",
   "execution_count": null,
   "id": "ee031abf",
   "metadata": {},
   "outputs": [],
   "source": [
    "r.json()"
   ]
  },
  {
   "cell_type": "markdown",
   "id": "88920f9c",
   "metadata": {},
   "source": [
    "#### Postal codes by place"
   ]
  },
  {
   "cell_type": "code",
   "execution_count": null,
   "id": "433b7f39",
   "metadata": {},
   "outputs": [],
   "source": [
    "options = [\"us\", \"tx\", \"houston\"]\n",
    "\n",
    "## This line will ensure that the url is formed correctly (for example if there are spaces)\n",
    "encoded_options = [urllib.parse.quote(option) for option in options]\n",
    "url = f\"{base_url}/{'/'.join(encoded_options)}\"\n",
    "r = requests.get(url)\n",
    "r.ok\n"
   ]
  },
  {
   "cell_type": "code",
   "execution_count": null,
   "id": "f78b9b2f",
   "metadata": {},
   "outputs": [],
   "source": [
    "url"
   ]
  },
  {
   "cell_type": "code",
   "execution_count": null,
   "id": "6a60788c",
   "metadata": {},
   "outputs": [],
   "source": [
    "r.json()"
   ]
  },
  {
   "cell_type": "code",
   "execution_count": null,
   "id": "3485d87f",
   "metadata": {},
   "outputs": [],
   "source": [
    "r.json().keys()"
   ]
  },
  {
   "cell_type": "code",
   "execution_count": null,
   "id": "22f13301",
   "metadata": {},
   "outputs": [],
   "source": [
    "pd.json_normalize(r.json())"
   ]
  },
  {
   "cell_type": "code",
   "execution_count": null,
   "id": "3b8d85e1",
   "metadata": {},
   "outputs": [],
   "source": [
    "df = pd.json_normalize(r.json()['places'])\n",
    "df['longitude'] = df['longitude'].astype(float)\n",
    "df['latitude'] = df['latitude'].astype(float)\n"
   ]
  },
  {
   "cell_type": "markdown",
   "id": "91105fbd",
   "metadata": {},
   "source": [
    "---"
   ]
  },
  {
   "cell_type": "markdown",
   "id": "fba47cf6",
   "metadata": {},
   "source": [
    "## Free Geocoding API\n",
    "\n",
    "**An API Key is now required**\n",
    "\n",
    "[Documentation](https://geocode.maps.co/)\n",
    "\n",
    "* The endpoints show that the query parameters should be entered as url parameters (indicated by the `?` in the url)\n",
    "* We can easily specify the query options using the `params` argument in the `.get` method\n",
    "* In order to do this, set up a dictionary such that \n",
    "    * the key is the parameter name (indicated in the documentation)\n",
    "    * the value is the our query choice\n",
    "* `requests.get()` will automatically make sure that our parameters are formatted into valid urls\n",
    "\n",
    "Endpoints:\n",
    "* Forward geocode (`https://geocode.maps.co/search?q={address}`)"
   ]
  },
  {
   "cell_type": "code",
   "execution_count": null,
   "id": "37b22467",
   "metadata": {},
   "outputs": [],
   "source": [
    "base_url = \"https://geocode.maps.co\"\n",
    "forward = '/search'\n",
    "\n",
    "params = {'q':'801 Smith Road Fremont OH 43420'}\n",
    "\n",
    "r = requests.get(base_url + forward, params = params)\n",
    "print(r.status_code)\n",
    "print(r.url)"
   ]
  },
  {
   "cell_type": "code",
   "execution_count": null,
   "id": "8f6e78d4",
   "metadata": {},
   "outputs": [],
   "source": [
    "r.json()"
   ]
  },
  {
   "cell_type": "markdown",
   "id": "37e7fde0",
   "metadata": {},
   "source": [
    "Endpoints\n",
    "* Reverse geocode (`https://geocode.maps.co/reverse?lat={latitude}&lon={longitude}`)"
   ]
  },
  {
   "cell_type": "code",
   "execution_count": null,
   "id": "eba8dc9b",
   "metadata": {},
   "outputs": [],
   "source": []
  },
  {
   "cell_type": "code",
   "execution_count": null,
   "id": "d2708c91",
   "metadata": {},
   "outputs": [],
   "source": [
    "reverse = '/reverse'\n",
    "\n",
    "params = {'lat': '41.299294', 'lon': '-83.091367'}\n",
    "\n",
    "r = requests.get(base_url + reverse, params = params)\n",
    "print(r.status_code)\n",
    "print(r.url)"
   ]
  },
  {
   "cell_type": "code",
   "execution_count": null,
   "id": "45bd13c9",
   "metadata": {},
   "outputs": [],
   "source": [
    "r.json()"
   ]
  },
  {
   "cell_type": "markdown",
   "id": "2230e5d1",
   "metadata": {},
   "source": [
    "---"
   ]
  },
  {
   "cell_type": "markdown",
   "id": "42f64fce",
   "metadata": {},
   "source": [
    "## NASA APOD API\n",
    "\n",
    "[NASA APIs](https://api.nasa.gov/).  \n",
    "* Sign up for an API key by filling out the form\n",
    "* Check your email for the API key\n",
    "* Create a .txt file and save *just the text of the api key* in the file\n",
    "    * For example, in the code below, my API key is saved in a file called \"`nasa_api_key.txt`\"\n",
    "\n",
    "#### APOD Query Parameters\n",
    "\n",
    "| Parameter   | Type        | Default   | Description                                                                                                      |\n",
    "|-------------|-------------|-----------|------------------------------------------------------------------------------------------------------------------|\n",
    "| date        | YYYY-MM-DD  | today     | The date of the APOD image to retrieve                                                                           |\n",
    "| start_date  | YYYY-MM-DD  | none      | The start of a date range, when requesting date for a range of dates. Cannot be used with date.                   |\n",
    "| end_date    | YYYY-MM-DD  | today     | The end of the date range, when used with start_date.                                                            |\n",
    "| count       | int         | none      | If this is specified then count randomly chosen images will be returned. Cannot be used with date or start_date and end_date. |\n",
    "| thumbs      | bool        | False     | Return the URL of video thumbnail. If an APOD is not a video, this parameter is ignored.                          |\n",
    "| api_key     | string      | DEMO_KEY  | api.nasa.gov key for expanded usage                                                                              |\n",
    "\n",
    "Example query:\n",
    "```\n",
    "https://api.nasa.gov/planetary/apod?api_key=DEMO_KEY\n",
    "```"
   ]
  },
  {
   "cell_type": "code",
   "execution_count": null,
   "id": "7745cdaa",
   "metadata": {},
   "outputs": [],
   "source": [
    "base_url = \"https://api.nasa.gov/planetary/apod\""
   ]
  },
  {
   "cell_type": "code",
   "execution_count": null,
   "id": "bfa5536c",
   "metadata": {},
   "outputs": [],
   "source": [
    "# # set the text of my api key to a variable called `nasa_key`\n",
    "# # Use this code if the file \"nasa_api_key.txt\" is in the same directory as this script\n",
    "# with open('~/Documents/Work/apiKeys/nasa_api_key.txt', 'r') as file:\n",
    "#     nasa_key = file.read()\n",
    "\n",
    "# # This is code that I use to read my api key from a file in a different directory on my computer\n",
    "# # Students can ignore this code\n",
    "file_path = Path.home() / \"Documents\" / \"Work\" / \"apiKeys\" / \"nasa_api_key.txt\"\n",
    "\n",
    "if file_path.exists():\n",
    "    with file_path.open(\"r\") as file:\n",
    "        nasa_key = file.read().strip()\n",
    "else:\n",
    "    print(\"API key file not found!\")"
   ]
  },
  {
   "cell_type": "markdown",
   "id": "4d58826c",
   "metadata": {},
   "source": [
    "Let's query all the APODs from Oct 1, 2023 - Oct 7, 2023\n",
    "* The documentation specifies that query parameters should be entered as url parameters (indicated by the `?` in the url)\n",
    "* We can easily specify the query options using the `params` argument in the `.get` method\n",
    "* In order to do this, set up a dictionary such that \n",
    "    * the key is the parameter name (indicated in the documentation)\n",
    "    * the value is the our query choice\n",
    "* `requests.get()` will automatically make sure that our parameters are formatted into valid urls\n"
   ]
  },
  {
   "cell_type": "code",
   "execution_count": null,
   "id": "196c5e9e",
   "metadata": {},
   "outputs": [],
   "source": [
    "params = {'api_key':nasa_key,\n",
    "          'start_date': '2023-10-01',\n",
    "          'end_date': '2023-10-07'}"
   ]
  },
  {
   "cell_type": "code",
   "execution_count": null,
   "id": "84611fca",
   "metadata": {},
   "outputs": [],
   "source": [
    "r = requests.get(base_url, params=params)"
   ]
  },
  {
   "cell_type": "code",
   "execution_count": null,
   "id": "e2f6029d",
   "metadata": {},
   "outputs": [],
   "source": [
    "#r.url"
   ]
  },
  {
   "cell_type": "code",
   "execution_count": null,
   "id": "d50699a8",
   "metadata": {},
   "outputs": [],
   "source": [
    "r.status_code"
   ]
  },
  {
   "cell_type": "code",
   "execution_count": null,
   "id": "c46f26c5",
   "metadata": {},
   "outputs": [],
   "source": [
    "r.json()"
   ]
  },
  {
   "cell_type": "code",
   "execution_count": null,
   "id": "e26e0c21",
   "metadata": {},
   "outputs": [],
   "source": [
    "pd.json_normalize(r.json())"
   ]
  },
  {
   "cell_type": "code",
   "execution_count": null,
   "id": "4b59c407",
   "metadata": {},
   "outputs": [],
   "source": []
  },
  {
   "cell_type": "code",
   "execution_count": null,
   "id": "f9d6f4d4",
   "metadata": {},
   "outputs": [],
   "source": []
  },
  {
   "cell_type": "markdown",
   "id": "2cad668f",
   "metadata": {},
   "source": [
    "---"
   ]
  },
  {
   "cell_type": "markdown",
   "id": "4ec263d6",
   "metadata": {},
   "source": [
    "## Exchange Rates API\n",
    "\n",
    "[Documentation](https://apilayer.com/marketplace/exchangerates_data-api)\n",
    "\n",
    "Sign up for an API key:\n",
    "* Go to [https://apilayer.com/marketplace/exchangerates_data-api](https://apilayer.com/marketplace/exchangerates_data-api)\n",
    "* You'll have to verify your email address and sign in\n",
    "* If you are taken back to the main page, search for \"exchange rates\" and click on \"Exchange Rates Data API\"\n",
    "* Under Pricing, find \"Free Plan\" and click \"Subscribe\"\n",
    "* If everything went well, you should then see a screen that says \"Subscription successful\" and \"Your API Key\"\n",
    "* Copy your API key to the clipboard and then save it in a .txt file (choose a sensible name for the file like \"`exchange_rates_apikey.txt`\")\n",
    "* **NEVER NEVER NEVER post your API key in a public place.  Anytime you use Git or GitHub with any API key, include the file with the key information in the `.gitignore` file**\n",
    "\n",
    "### Authenticating \n",
    "\n",
    "The NASA API, wanted us to authenticate with the api-key as a parameter in the url.  However, the documentation for this API says that the API key should be specified in a **header**.\n",
    "* Headers provide metadata about the request or response.  Some APIs (such as this one) require that the API key be specified in a header. \n",
    "    * Headers might also contain content type, return data type, user-agent, etc.  Generally the API documentation will specify \n",
    "\n",
    "\n",
    "### Endpoints\n",
    "* `/convert`\n",
    "* `/fluctuation`\n",
    "* `/latest`\n",
    "* `/symbols`\n",
    "* `/timeseries`\n",
    "* `/{date}`\n",
    "\n",
    "Each endpoint has its own parameters (or sometimes no parameters).  As with many API endpoints, some parameters are required and others are optional.\n",
    "\n",
    "\n",
    "#### Example\n",
    "For example, let's look at the `/convert` endpoint.  There are three required parameters and one optional:\n",
    "* amount (required) - amount to be converted\n",
    "* from (required) - three-letter currency code for the currency you would like to convert from\n",
    "* to (required) - three-letter currency code for the currency you would like to convert to\n",
    "* date (optional) - specify a date to use historical rates (default is latest)\n"
   ]
  },
  {
   "cell_type": "code",
   "execution_count": null,
   "id": "280a911f",
   "metadata": {},
   "outputs": [],
   "source": [
    "## First, get the api key\n",
    "# with open('exchange_rates_apikey.txt', 'r') as file:\n",
    "#     apikey = file.read()\n",
    "\n",
    "file_path = Path.home() / \"Documents\" / \"Work\" / \"apiKeys\" / \"exchange_rates_apikey.txt\"\n",
    "if file_path.exists():\n",
    "    with file_path.open(\"r\") as file:\n",
    "        apikey = file.read().strip()\n",
    "else:\n",
    "    print(\"API key file not found!\")"
   ]
  },
  {
   "cell_type": "code",
   "execution_count": null,
   "id": "203ff800",
   "metadata": {},
   "outputs": [],
   "source": [
    "# set up the headers\n",
    "headers= {\n",
    "  \"apikey\": apikey\n",
    "}"
   ]
  },
  {
   "cell_type": "code",
   "execution_count": null,
   "id": "137030a5",
   "metadata": {},
   "outputs": [],
   "source": [
    "# specify base_url and endpoint url (or this could be done in one step)\n",
    "base_url = \"https://api.apilayer.com/exchangerates_data\"\n",
    "endpoint = '/convert'\n",
    "url = base_url + endpoint"
   ]
  },
  {
   "cell_type": "code",
   "execution_count": null,
   "id": "de3cfa24",
   "metadata": {},
   "outputs": [],
   "source": [
    "# set up parameters.  I'm going to specify 35 Euros to US Dollars for Oct 8, 2023\n",
    "params = {'amount':'35',\n",
    "          'from':'EUR',\n",
    "          'to':'USD',\n",
    "          'date': '2024-10-10'}"
   ]
  },
  {
   "cell_type": "code",
   "execution_count": null,
   "id": "d1e8984e",
   "metadata": {},
   "outputs": [],
   "source": [
    "r = requests.get(url, headers=headers, params=params)\n",
    "print(r.ok)\n",
    "print(r.url)"
   ]
  },
  {
   "cell_type": "code",
   "execution_count": null,
   "id": "580c0728",
   "metadata": {},
   "outputs": [],
   "source": []
  },
  {
   "cell_type": "code",
   "execution_count": null,
   "id": "d7a2b0cb",
   "metadata": {},
   "outputs": [],
   "source": [
    "r.json()"
   ]
  },
  {
   "cell_type": "markdown",
   "id": "b317a9e5",
   "metadata": {},
   "source": [
    "## Wikipedia API\n",
    "\n",
    "[API Documentation](https://www.mediawiki.org/wiki/API:Main_page)\n",
    "\n",
    "Some APIs (and websites) want you to specify who you are through a `user-agent` parameter.  This can be the browser user-agent, but it can also be just a description of your project.  \n",
    "\n",
    "The Wikipedia API requests that you specify the user-agent per their [policy](https://meta.wikimedia.org/wiki/User-Agent_policy).  The basic format is `Project name (email@email.com)`"
   ]
  },
  {
   "cell_type": "code",
   "execution_count": null,
   "id": "2aa9bbfb",
   "metadata": {},
   "outputs": [],
   "source": [
    "# user_agent = 'Practice with APIs for Stat 386/0.0 (esnt@byu.edu)'\n",
    "# headers = {'User-Agent':user_agent}"
   ]
  },
  {
   "cell_type": "code",
   "execution_count": null,
   "id": "7530fc99",
   "metadata": {},
   "outputs": [],
   "source": [
    "base_url = \"https://en.wikipedia.org/w/api.php\"\n",
    "params = {'action':'query',\n",
    "          'list':'search',\n",
    "          'srsearch': 'Star Wars',\n",
    "          'format': 'json'}"
   ]
  },
  {
   "cell_type": "code",
   "execution_count": null,
   "id": "0d01db8e",
   "metadata": {},
   "outputs": [],
   "source": [
    "r = requests.get(base_url, params=params)"
   ]
  },
  {
   "cell_type": "code",
   "execution_count": null,
   "id": "d9053bf3",
   "metadata": {},
   "outputs": [],
   "source": [
    "data = r.json()\n",
    "print(len(data['query']['search']))\n",
    "for result in data['query']['search']:\n",
    "    print(f\"Title: {result['title']}\\nSnippet: {result['snippet']}\\n\\n\")\n",
    "    "
   ]
  },
  {
   "cell_type": "markdown",
   "id": "5c0b6994",
   "metadata": {},
   "source": [
    "---"
   ]
  },
  {
   "cell_type": "markdown",
   "id": "78fe5e8f",
   "metadata": {},
   "source": [
    "## The Movie Database (TMDb)\n",
    "\n",
    "[Website](https://www.themoviedb.org/?language=en-US) and [API Documentation](https://developer.themoviedb.org/docs)"
   ]
  },
  {
   "cell_type": "code",
   "execution_count": null,
   "id": "36a44668",
   "metadata": {},
   "outputs": [],
   "source": [
    "base_url = \"https://api.themoviedb.org/3/search/movie\"\n",
    "\n",
    "with open('tmdb_api_key.txt', 'r') as file:\n",
    "    apikey = file.readlines()[1].strip()\n"
   ]
  },
  {
   "cell_type": "code",
   "execution_count": null,
   "id": "5785f0ab",
   "metadata": {},
   "outputs": [],
   "source": [
    "headers = {\n",
    "    \"accept\": \"application/json\",\n",
    "    \"Authorization\": \"Bearer \" + apikey}"
   ]
  },
  {
   "cell_type": "code",
   "execution_count": null,
   "id": "f3021666",
   "metadata": {},
   "outputs": [],
   "source": [
    "results = []\n",
    "for page in range(1,10,1):\n",
    "\n",
    "    params = {'include_adult':'false',\n",
    "            'language':\"en-US\",\n",
    "            'query':'Star Wars',\n",
    "            'page': str(page)}\n",
    "    \n",
    "    response = requests.get(base_url, headers=headers, params=params)\n",
    "\n",
    "    print(response.status_code)\n",
    "    if response.ok:\n",
    "        results.extend(response.json()['results'])"
   ]
  },
  {
   "cell_type": "code",
   "execution_count": null,
   "id": "62ed12b3",
   "metadata": {},
   "outputs": [],
   "source": [
    "sw = pd.DataFrame(results)\n",
    "sw = sw[['original_title','popularity','release_date','title','vote_average','vote_count']]"
   ]
  },
  {
   "cell_type": "code",
   "execution_count": null,
   "id": "ef5f6181",
   "metadata": {},
   "outputs": [],
   "source": [
    "sw.sort_values(by='popularity', ascending=False).head(10)"
   ]
  },
  {
   "cell_type": "code",
   "execution_count": null,
   "id": "659d9f92",
   "metadata": {},
   "outputs": [],
   "source": [
    "sw[sw.vote_count>500].sort_values(by='vote_average', ascending=False).head(10)"
   ]
  },
  {
   "cell_type": "code",
   "execution_count": null,
   "id": "68b20657",
   "metadata": {},
   "outputs": [],
   "source": []
  },
  {
   "cell_type": "code",
   "execution_count": null,
   "id": "2bbd88e5",
   "metadata": {},
   "outputs": [],
   "source": []
  }
 ],
 "metadata": {
  "kernelspec": {
   "display_name": "shared",
   "language": "python",
   "name": "python3"
  },
  "language_info": {
   "codemirror_mode": {
    "name": "ipython",
    "version": 3
   },
   "file_extension": ".py",
   "mimetype": "text/x-python",
   "name": "python",
   "nbconvert_exporter": "python",
   "pygments_lexer": "ipython3",
   "version": "3.12.8"
  }
 },
 "nbformat": 4,
 "nbformat_minor": 5
}
