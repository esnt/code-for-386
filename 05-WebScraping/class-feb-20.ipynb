{
 "cells": [
  {
   "cell_type": "code",
   "execution_count": 1,
   "metadata": {},
   "outputs": [],
   "source": [
    "import pandas as pd\n",
    "import numpy as np\n",
    "import requests\n",
    "from bs4 import BeautifulSoup"
   ]
  },
  {
   "cell_type": "code",
   "execution_count": 12,
   "metadata": {},
   "outputs": [],
   "source": [
    "url = 'https://statistics.byu.edu/faculty-directory'\n",
    "#url = 'https://statistics.byu.edu/time_travel'\n",
    "r = requests.get(url)"
   ]
  },
  {
   "cell_type": "code",
   "execution_count": 13,
   "metadata": {},
   "outputs": [
    {
     "data": {
      "text/plain": [
       "True"
      ]
     },
     "execution_count": 13,
     "metadata": {},
     "output_type": "execute_result"
    }
   ],
   "source": [
    "# check the status code\n",
    "r.status_code\n",
    "\n",
    "# check as a boolean\n",
    "r.ok"
   ]
  },
  {
   "cell_type": "code",
   "execution_count": null,
   "metadata": {},
   "outputs": [],
   "source": [
    "## r.text will contain the string of the html code for the page"
   ]
  },
  {
   "cell_type": "code",
   "execution_count": 14,
   "metadata": {},
   "outputs": [],
   "source": [
    "# parse the html for easier finding of what I want\n",
    "text = r.text\n",
    "soup = BeautifulSoup(r.text)"
   ]
  },
  {
   "cell_type": "code",
   "execution_count": 20,
   "metadata": {},
   "outputs": [
    {
     "data": {
      "text/plain": [
       "'Faculty Directory'"
      ]
     },
     "execution_count": 20,
     "metadata": {},
     "output_type": "execute_result"
    }
   ],
   "source": [
    "soup.find_all('title')[0].get_text()"
   ]
  },
  {
   "cell_type": "code",
   "execution_count": null,
   "metadata": {},
   "outputs": [],
   "source": [
    "## Goal:  Create a dataset of names and titles of BYU statistics faculty"
   ]
  },
  {
   "cell_type": "code",
   "execution_count": 43,
   "metadata": {},
   "outputs": [
    {
     "name": "stdout",
     "output_type": "stream",
     "text": [
      "25\n"
     ]
    }
   ],
   "source": [
    "h3_tags = soup.find_all('h3')\n",
    "print(len(h3_tags))"
   ]
  },
  {
   "cell_type": "code",
   "execution_count": 48,
   "metadata": {},
   "outputs": [
    {
     "data": {
      "text/plain": [
       "<h3 class=\"PromoImageOnTopCircular-title promo-title-small\">\n",
       "<a class=\"Link\" data-cms-ai=\"0\" href=\"https://statistics.byu.edu/directory/candace-berrett\">Berrett, Candace</a>\n",
       "</h3>"
      ]
     },
     "execution_count": 48,
     "metadata": {},
     "output_type": "execute_result"
    }
   ],
   "source": [
    "h3_tags[0]"
   ]
  },
  {
   "cell_type": "code",
   "execution_count": 44,
   "metadata": {},
   "outputs": [
    {
     "data": {
      "text/plain": [
       "196"
      ]
     },
     "execution_count": 44,
     "metadata": {},
     "output_type": "execute_result"
    }
   ],
   "source": [
    "len(soup.find_all('div'))"
   ]
  },
  {
   "cell_type": "code",
   "execution_count": 40,
   "metadata": {},
   "outputs": [
    {
     "data": {
      "text/plain": [
       "25"
      ]
     },
     "execution_count": 40,
     "metadata": {},
     "output_type": "execute_result"
    }
   ],
   "source": [
    "divs = soup.find_all('div', {'class':'PromoImageOnTopCircular-description'})\n",
    "len(divs)"
   ]
  },
  {
   "cell_type": "code",
   "execution_count": null,
   "metadata": {},
   "outputs": [],
   "source": [
    "names = []\n",
    "links = []\n",
    "for h3 in h3_tags:\n",
    "    name = h3.get_text().strip()\n",
    "    link = h3.find('a')['href']\n",
    "    names.append(name)\n",
    "    links.append(link)\n",
    "\n",
    "titles = []\n",
    "for div in divs:\n",
    "    title = div.get_text().strip()\n",
    "    titles.append(title)\n",
    "\n",
    "\n"
   ]
  },
  {
   "cell_type": "code",
   "execution_count": 42,
   "metadata": {},
   "outputs": [
    {
     "data": {
      "text/plain": [
       "['Professor and Associate Chair',\n",
       " 'Associate Professor',\n",
       " 'Assistant Professor',\n",
       " 'Professor and Associate Chair',\n",
       " 'Professor and Department Chair',\n",
       " 'Professor',\n",
       " 'Assistant Professor',\n",
       " 'Professor',\n",
       " 'Associate Professor; Actuarial Program Coordinator',\n",
       " 'Professor',\n",
       " 'Assistant Professor',\n",
       " 'Emeritus Professor',\n",
       " 'Professor',\n",
       " 'Associate Professor',\n",
       " 'Associate Professor',\n",
       " 'President of Brigham Young University',\n",
       " 'Assistant Professor',\n",
       " 'Associate Professor',\n",
       " 'Assistant Professor',\n",
       " 'Professor and Undergraduate Advisor',\n",
       " 'Associate Research Professor',\n",
       " 'Associate Professor',\n",
       " 'Professor',\n",
       " 'Associate Professor',\n",
       " 'Assistant Professor']"
      ]
     },
     "execution_count": 42,
     "metadata": {},
     "output_type": "execute_result"
    }
   ],
   "source": [
    "titles"
   ]
  },
  {
   "cell_type": "code",
   "execution_count": 47,
   "metadata": {},
   "outputs": [
    {
     "data": {
      "text/html": [
       "<div>\n",
       "<style scoped>\n",
       "    .dataframe tbody tr th:only-of-type {\n",
       "        vertical-align: middle;\n",
       "    }\n",
       "\n",
       "    .dataframe tbody tr th {\n",
       "        vertical-align: top;\n",
       "    }\n",
       "\n",
       "    .dataframe thead th {\n",
       "        text-align: right;\n",
       "    }\n",
       "</style>\n",
       "<table border=\"1\" class=\"dataframe\">\n",
       "  <thead>\n",
       "    <tr style=\"text-align: right;\">\n",
       "      <th></th>\n",
       "      <th>name</th>\n",
       "      <th>title</th>\n",
       "      <th>url</th>\n",
       "    </tr>\n",
       "  </thead>\n",
       "  <tbody>\n",
       "    <tr>\n",
       "      <th>0</th>\n",
       "      <td>Berrett, Candace</td>\n",
       "      <td>Professor and Associate Chair</td>\n",
       "      <td>https://statistics.byu.edu/directory/candace-b...</td>\n",
       "    </tr>\n",
       "    <tr>\n",
       "      <th>1</th>\n",
       "      <td>Blades, Natalie J.</td>\n",
       "      <td>Associate Professor</td>\n",
       "      <td>https://statistics.byu.edu/directory/blades-na...</td>\n",
       "    </tr>\n",
       "    <tr>\n",
       "      <th>2</th>\n",
       "      <td>Christensen, Michael</td>\n",
       "      <td>Assistant Professor</td>\n",
       "      <td>https://statistics.byu.edu/directory/christens...</td>\n",
       "    </tr>\n",
       "    <tr>\n",
       "      <th>3</th>\n",
       "      <td>Christensen, William F.</td>\n",
       "      <td>Professor and Associate Chair</td>\n",
       "      <td>https://statistics.byu.edu/directory/christens...</td>\n",
       "    </tr>\n",
       "    <tr>\n",
       "      <th>4</th>\n",
       "      <td>Dahl, David B.</td>\n",
       "      <td>Professor and Department Chair</td>\n",
       "      <td>https://statistics.byu.edu/directory/dahl-david-b</td>\n",
       "    </tr>\n",
       "    <tr>\n",
       "      <th>5</th>\n",
       "      <td>Fellingham, Gilbert W.</td>\n",
       "      <td>Professor</td>\n",
       "      <td>https://statistics.byu.edu/directory/fellingha...</td>\n",
       "    </tr>\n",
       "    <tr>\n",
       "      <th>6</th>\n",
       "      <td>Fisher, Jared</td>\n",
       "      <td>Assistant Professor</td>\n",
       "      <td>https://statistics.byu.edu/directory/jared-fisher</td>\n",
       "    </tr>\n",
       "    <tr>\n",
       "      <th>7</th>\n",
       "      <td>Grimshaw, Scott D.</td>\n",
       "      <td>Professor</td>\n",
       "      <td>https://statistics.byu.edu/directory/grimshaw-...</td>\n",
       "    </tr>\n",
       "    <tr>\n",
       "      <th>8</th>\n",
       "      <td>Hartman, Brian</td>\n",
       "      <td>Associate Professor; Actuarial Program Coordin...</td>\n",
       "      <td>https://statistics.byu.edu/directory/hartman-b...</td>\n",
       "    </tr>\n",
       "    <tr>\n",
       "      <th>9</th>\n",
       "      <td>Heaton, Matthew</td>\n",
       "      <td>Professor</td>\n",
       "      <td>https://statistics.byu.edu/directory/heaton-ma...</td>\n",
       "    </tr>\n",
       "    <tr>\n",
       "      <th>10</th>\n",
       "      <td>Heiner, Matthew</td>\n",
       "      <td>Assistant Professor</td>\n",
       "      <td>https://statistics.byu.edu/directory/matthew-j...</td>\n",
       "    </tr>\n",
       "    <tr>\n",
       "      <th>11</th>\n",
       "      <td>Nielsen, Lynne</td>\n",
       "      <td>Emeritus Professor</td>\n",
       "      <td>https://statistics.byu.edu/directory/nielsen-l...</td>\n",
       "    </tr>\n",
       "    <tr>\n",
       "      <th>12</th>\n",
       "      <td>Page, Garritt</td>\n",
       "      <td>Professor</td>\n",
       "      <td>https://statistics.byu.edu/directory/page-garritt</td>\n",
       "    </tr>\n",
       "    <tr>\n",
       "      <th>13</th>\n",
       "      <td>Perrett, Jamie</td>\n",
       "      <td>Associate Professor</td>\n",
       "      <td>https://statistics.byu.edu/directory/perrett-j...</td>\n",
       "    </tr>\n",
       "    <tr>\n",
       "      <th>14</th>\n",
       "      <td>Petersen, Alex</td>\n",
       "      <td>Associate Professor</td>\n",
       "      <td>https://statistics.byu.edu/directory/petersen-...</td>\n",
       "    </tr>\n",
       "    <tr>\n",
       "      <th>15</th>\n",
       "      <td>Reese, Shane</td>\n",
       "      <td>President of Brigham Young University</td>\n",
       "      <td>https://statistics.byu.edu/directory/reese-shane</td>\n",
       "    </tr>\n",
       "    <tr>\n",
       "      <th>16</th>\n",
       "      <td>Rhodes, Jake</td>\n",
       "      <td>Assistant Professor</td>\n",
       "      <td>https://statistics.byu.edu/directory/rhodes-jake</td>\n",
       "    </tr>\n",
       "    <tr>\n",
       "      <th>17</th>\n",
       "      <td>Richardson, Robert</td>\n",
       "      <td>Associate Professor</td>\n",
       "      <td>https://statistics.byu.edu/directory/richardso...</td>\n",
       "    </tr>\n",
       "    <tr>\n",
       "      <th>18</th>\n",
       "      <td>Sandholtz, Nathan</td>\n",
       "      <td>Assistant Professor</td>\n",
       "      <td>https://statistics.byu.edu/directory/sandholtz...</td>\n",
       "    </tr>\n",
       "    <tr>\n",
       "      <th>19</th>\n",
       "      <td>Scott, Del T.</td>\n",
       "      <td>Professor and Undergraduate Advisor</td>\n",
       "      <td>https://statistics.byu.edu/directory/scott-del-t</td>\n",
       "    </tr>\n",
       "    <tr>\n",
       "      <th>20</th>\n",
       "      <td>Snow, Greg</td>\n",
       "      <td>Associate Research Professor</td>\n",
       "      <td>https://statistics.byu.edu/directory/snow-greg</td>\n",
       "    </tr>\n",
       "    <tr>\n",
       "      <th>21</th>\n",
       "      <td>Tass, Shannon</td>\n",
       "      <td>Associate Professor</td>\n",
       "      <td>https://statistics.byu.edu/directory/tass-shannon</td>\n",
       "    </tr>\n",
       "    <tr>\n",
       "      <th>22</th>\n",
       "      <td>Tolley, H. Dennis</td>\n",
       "      <td>Professor</td>\n",
       "      <td>https://statistics.byu.edu/directory/tolley-h-...</td>\n",
       "    </tr>\n",
       "    <tr>\n",
       "      <th>23</th>\n",
       "      <td>Warr, Richard</td>\n",
       "      <td>Associate Professor</td>\n",
       "      <td>https://statistics.byu.edu/directory/warr-richard</td>\n",
       "    </tr>\n",
       "    <tr>\n",
       "      <th>24</th>\n",
       "      <td>White, Philip</td>\n",
       "      <td>Assistant Professor</td>\n",
       "      <td>https://statistics.byu.edu/directory/white-philip</td>\n",
       "    </tr>\n",
       "  </tbody>\n",
       "</table>\n",
       "</div>"
      ],
      "text/plain": [
       "                       name  \\\n",
       "0          Berrett, Candace   \n",
       "1        Blades, Natalie J.   \n",
       "2      Christensen, Michael   \n",
       "3   Christensen, William F.   \n",
       "4            Dahl, David B.   \n",
       "5    Fellingham, Gilbert W.   \n",
       "6             Fisher, Jared   \n",
       "7        Grimshaw, Scott D.   \n",
       "8            Hartman, Brian   \n",
       "9           Heaton, Matthew   \n",
       "10          Heiner, Matthew   \n",
       "11           Nielsen, Lynne   \n",
       "12            Page, Garritt   \n",
       "13           Perrett, Jamie   \n",
       "14           Petersen, Alex   \n",
       "15             Reese, Shane   \n",
       "16             Rhodes, Jake   \n",
       "17       Richardson, Robert   \n",
       "18        Sandholtz, Nathan   \n",
       "19            Scott, Del T.   \n",
       "20               Snow, Greg   \n",
       "21            Tass, Shannon   \n",
       "22        Tolley, H. Dennis   \n",
       "23            Warr, Richard   \n",
       "24            White, Philip   \n",
       "\n",
       "                                                title  \\\n",
       "0                       Professor and Associate Chair   \n",
       "1                                 Associate Professor   \n",
       "2                                 Assistant Professor   \n",
       "3                       Professor and Associate Chair   \n",
       "4                      Professor and Department Chair   \n",
       "5                                           Professor   \n",
       "6                                 Assistant Professor   \n",
       "7                                           Professor   \n",
       "8   Associate Professor; Actuarial Program Coordin...   \n",
       "9                                           Professor   \n",
       "10                                Assistant Professor   \n",
       "11                                 Emeritus Professor   \n",
       "12                                          Professor   \n",
       "13                                Associate Professor   \n",
       "14                                Associate Professor   \n",
       "15              President of Brigham Young University   \n",
       "16                                Assistant Professor   \n",
       "17                                Associate Professor   \n",
       "18                                Assistant Professor   \n",
       "19                Professor and Undergraduate Advisor   \n",
       "20                       Associate Research Professor   \n",
       "21                                Associate Professor   \n",
       "22                                          Professor   \n",
       "23                                Associate Professor   \n",
       "24                                Assistant Professor   \n",
       "\n",
       "                                                  url  \n",
       "0   https://statistics.byu.edu/directory/candace-b...  \n",
       "1   https://statistics.byu.edu/directory/blades-na...  \n",
       "2   https://statistics.byu.edu/directory/christens...  \n",
       "3   https://statistics.byu.edu/directory/christens...  \n",
       "4   https://statistics.byu.edu/directory/dahl-david-b  \n",
       "5   https://statistics.byu.edu/directory/fellingha...  \n",
       "6   https://statistics.byu.edu/directory/jared-fisher  \n",
       "7   https://statistics.byu.edu/directory/grimshaw-...  \n",
       "8   https://statistics.byu.edu/directory/hartman-b...  \n",
       "9   https://statistics.byu.edu/directory/heaton-ma...  \n",
       "10  https://statistics.byu.edu/directory/matthew-j...  \n",
       "11  https://statistics.byu.edu/directory/nielsen-l...  \n",
       "12  https://statistics.byu.edu/directory/page-garritt  \n",
       "13  https://statistics.byu.edu/directory/perrett-j...  \n",
       "14  https://statistics.byu.edu/directory/petersen-...  \n",
       "15   https://statistics.byu.edu/directory/reese-shane  \n",
       "16   https://statistics.byu.edu/directory/rhodes-jake  \n",
       "17  https://statistics.byu.edu/directory/richardso...  \n",
       "18  https://statistics.byu.edu/directory/sandholtz...  \n",
       "19   https://statistics.byu.edu/directory/scott-del-t  \n",
       "20     https://statistics.byu.edu/directory/snow-greg  \n",
       "21  https://statistics.byu.edu/directory/tass-shannon  \n",
       "22  https://statistics.byu.edu/directory/tolley-h-...  \n",
       "23  https://statistics.byu.edu/directory/warr-richard  \n",
       "24  https://statistics.byu.edu/directory/white-philip  "
      ]
     },
     "execution_count": 47,
     "metadata": {},
     "output_type": "execute_result"
    }
   ],
   "source": [
    "pd.DataFrame({'name': names, 'title': titles, 'url': links})"
   ]
  },
  {
   "cell_type": "code",
   "execution_count": null,
   "metadata": {},
   "outputs": [],
   "source": []
  }
 ],
 "metadata": {
  "kernelspec": {
   "display_name": "shared",
   "language": "python",
   "name": "python3"
  },
  "language_info": {
   "codemirror_mode": {
    "name": "ipython",
    "version": 3
   },
   "file_extension": ".py",
   "mimetype": "text/x-python",
   "name": "python",
   "nbconvert_exporter": "python",
   "pygments_lexer": "ipython3",
   "version": "3.12.8"
  }
 },
 "nbformat": 4,
 "nbformat_minor": 2
}
