{
 "cells": [
  {
   "cell_type": "code",
   "execution_count": null,
   "id": "9fc93a2c",
   "metadata": {},
   "outputs": [],
   "source": [
    "import pandas as pd\n",
    "import numpy as np\n",
    "import re"
   ]
  },
  {
   "cell_type": "code",
   "execution_count": null,
   "id": "a49f5981",
   "metadata": {},
   "outputs": [],
   "source": [
    "st = \"\"\"The quick brown Fox jumps over the lazy dog. \n",
    "My email is john.doe@example.com. \n",
    "My other email\n",
    "Provo's lat/lon coordinates are 40.2338N111.6585W is random_student@university.edu.  \n",
    "The Date is 03/05/2024. \n",
    "The textbook will cost $30. It should be less than 40€.\n",
    "This is a sample phone number (123) 456-7890.\n",
    "Here is another sample (987)654-3210.\"\"\""
   ]
  },
  {
   "cell_type": "markdown",
   "id": "004b1ff2",
   "metadata": {},
   "source": [
    "1. Make a list of all the single digits.  How long is it? (should be 45)"
   ]
  },
  {
   "cell_type": "code",
   "execution_count": null,
   "id": "9d776f5a",
   "metadata": {},
   "outputs": [],
   "source": [
    "# pattern = r'\\d'\n",
    "pattern = r'[0-9]' # [01234566789]\n",
    "len(re.findall(pattern, st))"
   ]
  },
  {
   "cell_type": "code",
   "execution_count": null,
   "id": "6cdc18ec",
   "metadata": {},
   "outputs": [],
   "source": []
  },
  {
   "cell_type": "markdown",
   "id": "3c18416f",
   "metadata": {},
   "source": [
    "2. Make a list sequences of digits.  Define a sequence as a set of digits separated by non-digit characters.  For example, in the string \"40.2338N111\" the sequences of digits are: \"40\", \"2338\" and \"111\". \n",
    "\n",
    "How long is the list? (should be 15)"
   ]
  },
  {
   "cell_type": "code",
   "execution_count": null,
   "id": "2ac0551f",
   "metadata": {},
   "outputs": [],
   "source": []
  },
  {
   "cell_type": "code",
   "execution_count": null,
   "id": "d518cb18",
   "metadata": {},
   "outputs": [],
   "source": []
  },
  {
   "cell_type": "markdown",
   "id": "9366aff1",
   "metadata": {},
   "source": [
    "3. Find all the phone numbers of the form `(XXX) XXX-XXXX` or `(XXX)XXX-XXXX` in the string `st`.  \n"
   ]
  },
  {
   "cell_type": "code",
   "execution_count": null,
   "id": "9b6196ab",
   "metadata": {},
   "outputs": [],
   "source": []
  },
  {
   "cell_type": "code",
   "execution_count": null,
   "id": "6b118f5f",
   "metadata": {},
   "outputs": [],
   "source": []
  },
  {
   "cell_type": "markdown",
   "id": "2a8608d0",
   "metadata": {},
   "source": [
    "4. Find all the email addresses in the string `st`.\n"
   ]
  },
  {
   "cell_type": "code",
   "execution_count": null,
   "id": "2f467317",
   "metadata": {},
   "outputs": [],
   "source": []
  },
  {
   "cell_type": "code",
   "execution_count": null,
   "id": "c96712b6",
   "metadata": {},
   "outputs": [],
   "source": []
  },
  {
   "cell_type": "markdown",
   "id": "da5def3c",
   "metadata": {},
   "source": [
    "5. Create a regex pattern that extracts the year from a date formatted as `MM/DD/YYYY`.  Apply your pattern to the string `st`."
   ]
  },
  {
   "cell_type": "code",
   "execution_count": null,
   "id": "079f1685",
   "metadata": {},
   "outputs": [],
   "source": []
  },
  {
   "cell_type": "code",
   "execution_count": null,
   "id": "3bd209bb",
   "metadata": {},
   "outputs": [],
   "source": []
  },
  {
   "cell_type": "markdown",
   "id": "807f99c0",
   "metadata": {},
   "source": [
    "6.  Find all the values in `st` that represent currency in US Dollars or Euros (€)."
   ]
  },
  {
   "cell_type": "code",
   "execution_count": null,
   "id": "13f8a6ec",
   "metadata": {},
   "outputs": [],
   "source": []
  },
  {
   "cell_type": "code",
   "execution_count": null,
   "id": "0ab13fc2",
   "metadata": {},
   "outputs": [],
   "source": []
  },
  {
   "cell_type": "markdown",
   "id": "52c73c83",
   "metadata": {},
   "source": [
    "7. Extract the latitude and longitude from `st`."
   ]
  },
  {
   "cell_type": "code",
   "execution_count": null,
   "id": "7d65fbac",
   "metadata": {},
   "outputs": [],
   "source": []
  },
  {
   "cell_type": "code",
   "execution_count": null,
   "id": "62ab0e14",
   "metadata": {},
   "outputs": [],
   "source": []
  },
  {
   "cell_type": "markdown",
   "id": "667a72a9",
   "metadata": {},
   "source": [
    "8. Replace all the vowels and \"y\" in `st` with the character `*`"
   ]
  },
  {
   "cell_type": "code",
   "execution_count": null,
   "id": "c21f05df",
   "metadata": {},
   "outputs": [],
   "source": []
  },
  {
   "cell_type": "code",
   "execution_count": null,
   "id": "c3be200d",
   "metadata": {},
   "outputs": [],
   "source": []
  },
  {
   "cell_type": "markdown",
   "id": "01440008",
   "metadata": {},
   "source": [
    "9. Find all words in the string `st` that start with a lowercase letter and are at least 6 characters long."
   ]
  },
  {
   "cell_type": "code",
   "execution_count": null,
   "id": "dfecd08b",
   "metadata": {},
   "outputs": [],
   "source": []
  },
  {
   "cell_type": "code",
   "execution_count": null,
   "id": "5c48ea59",
   "metadata": {},
   "outputs": [],
   "source": []
  },
  {
   "cell_type": "markdown",
   "id": "01b2f40c",
   "metadata": {},
   "source": [
    "10. Find all capitalized words in the text"
   ]
  },
  {
   "cell_type": "code",
   "execution_count": null,
   "id": "00ce254c",
   "metadata": {},
   "outputs": [],
   "source": []
  },
  {
   "cell_type": "code",
   "execution_count": null,
   "id": "c93f88ea",
   "metadata": {},
   "outputs": [],
   "source": []
  },
  {
   "cell_type": "markdown",
   "id": "6c4a8c69",
   "metadata": {},
   "source": [
    "---\n",
    "## Data Cleaning with DataFrames\n",
    "\n",
    "Load the data:\n",
    "```python\n",
    "url = 'https://github.com/esnt/Data/raw/main/MessyData/employeedata.csv'\n",
    "df_employee = pd.read_csv(url)\n",
    "```\n",
    "\n",
    "1. Extract the first and last names from the \"name\" column and create two new variable called \"first_name\" and \"last_name\"\n",
    "2. Extract the area code from the phone number column and create a new variable called \"area_code\" (assume the area code is always the first 3 digits)\n",
    "3. Extract the year from the \"birthdate\" column and create a new variable called \"birthyear\"\n",
    "4. Create a columns that is the height in inches\n",
    "5. Create a column that contains the domain of the email addresses (e.g. \"yahoo.com\")\n",
    "6. Extract the city and state from the \"mailing_address\" and create three new variables called \"city\", \"state\", and \"zipcode\"\n",
    "7. Keep only the new variables that you created in (1.) - (6.) Your final dataset should look something like this:\n",
    "\n",
    "\n",
    "| first_name | last_name | area_code | birthyear| ht_in| domain | city | state | zipcode |\n",
    "|------------|-----------|-----------|----------|-------|-------|--------|-----|---------|\n",
    "| Ryan | Wilkins | 851 | 1959 | 74 | hotmail.com | Port Victoria | MN | 71782"
   ]
  },
  {
   "cell_type": "code",
   "execution_count": null,
   "id": "3e4e96f5",
   "metadata": {},
   "outputs": [],
   "source": [
    "url = 'https://github.com/esnt/Data/raw/main/MessyData/employeedata.csv'\n",
    "df_employee = pd.read_csv(url)"
   ]
  },
  {
   "cell_type": "code",
   "execution_count": null,
   "id": "3e0f945f",
   "metadata": {},
   "outputs": [],
   "source": []
  },
  {
   "cell_type": "code",
   "execution_count": null,
   "id": "8f7217c5",
   "metadata": {},
   "outputs": [],
   "source": []
  },
  {
   "cell_type": "code",
   "execution_count": null,
   "id": "1b56a796",
   "metadata": {},
   "outputs": [],
   "source": []
  },
  {
   "cell_type": "code",
   "execution_count": null,
   "id": "163e4d80",
   "metadata": {},
   "outputs": [],
   "source": []
  }
 ],
 "metadata": {
  "kernelspec": {
   "display_name": "classes24",
   "language": "python",
   "name": "python3"
  },
  "language_info": {
   "codemirror_mode": {
    "name": "ipython",
    "version": 3
   },
   "file_extension": ".py",
   "mimetype": "text/x-python",
   "name": "python",
   "nbconvert_exporter": "python",
   "pygments_lexer": "ipython3",
   "version": "3.12.5"
  }
 },
 "nbformat": 4,
 "nbformat_minor": 5
}
